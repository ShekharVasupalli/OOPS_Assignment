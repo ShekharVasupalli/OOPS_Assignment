{
 "cells": [
  {
   "cell_type": "markdown",
   "id": "145d6d10-48dc-46a8-9c41-5ffcb17468fd",
   "metadata": {},
   "source": [
    "Q1) What are the five key concepts of Object-Oriented Programming (OOP)?\n",
    "\n",
    "Ans) The five key concepts of object-oriented programming are: \n",
    "\n",
    "1. Class: A blueprint for creating objects (instances). It defines a set of attributes (variables) and methods (functions) that the created objects will have.\n",
    "\n",
    "2. Object: An instance of a class. Objects can have attributes (data) and methods (functions). Each object is independent and can have different data.\n",
    "\n",
    "3. Encapsulation: The concept of bundling data (attributes) and methods (functions) that operate on that data into a single unit or class, while restricting access to some of the object's components. This is achieved using private and protected access modifiers.\n",
    "\n",
    "4. Inheritance: A mechanism that allows one class (child or subclass) to inherit the properties and methods of another class (parent or superclass). This promotes code reusability.\n",
    "\n",
    "5. Polymorphism: The ability to define methods that behave differently based on the object calling them. It allows functions or methods to process objects differently depending on their data type or class."
   ]
  },
  {
   "cell_type": "markdown",
   "id": "02918459-8c00-402d-aa01-d01f8efe04bc",
   "metadata": {},
   "source": [
    "Q2)  Write a Python class for a `Car` with attributes for `make`, `model`, and `year`. Include a method to display the car's information.\n",
    "\n",
    "Ans) "
   ]
  },
  {
   "cell_type": "code",
   "execution_count": 3,
   "id": "41433dab-a73a-41ad-93e4-beb09271a1e4",
   "metadata": {},
   "outputs": [
    {
     "name": "stdout",
     "output_type": "stream",
     "text": [
      "Car Information: 2020 Toyota Camry\n"
     ]
    }
   ],
   "source": [
    "class Car:\n",
    "    def __init__(self, make, model, year):\n",
    "        self.make = make\n",
    "        self.model = model\n",
    "        self.year = year\n",
    "\n",
    "    def display_info(self):\n",
    "        print(f\"Car Information: {self.year} {self.make} {self.model}\")\n",
    "\n",
    "my_car = Car(\"Toyota\", \"Camry\", 2020)\n",
    "my_car.display_info()\n"
   ]
  },
  {
   "cell_type": "markdown",
   "id": "c99c7609-0b45-4ef1-b8b1-2528e22179f8",
   "metadata": {},
   "source": [
    "Q3)  Explain the difference between instance methods and class methods. Provide an example of each.\n",
    "\n",
    "Ans) Instance methods and class methods differ in how they are defined, called, and what they operate on.\n",
    "\n",
    "1. Instance Methods:\n",
    "Definition: These are methods that operate on instances (objects) of a class. They take self as the first parameter, which refers to the specific instance of the class.\n",
    "Use: They can access and modify instance variables (attributes that belong to an instance).\n",
    "Calling: Instance methods are called on an object of the class.\n",
    "\n",
    "2. Class Methods:\n",
    "Definition: These are methods that operate on the class itself rather than on instances. They take cls as the first parameter, which refers to the class.\n",
    "Use: They can access and modify class-level data (attributes that belong to the class, not specific instances).\n",
    "Calling: Class methods are called on the class itself or an instance, and they are marked with the @classmethod decorator."
   ]
  },
  {
   "cell_type": "code",
   "execution_count": 5,
   "id": "395f3e28-6914-45e1-b9ac-00444955180e",
   "metadata": {},
   "outputs": [
    {
     "name": "stdout",
     "output_type": "stream",
     "text": [
      "2020 Toyota Camry\n",
      "2020 Toyota Camry\n"
     ]
    }
   ],
   "source": [
    "# Example of an Instance Method:\n",
    "\n",
    "class Car:\n",
    "    def __init__(self, make, model, year):\n",
    "        self.make = make\n",
    "        self.model = model\n",
    "        self.year = year\n",
    "\n",
    "    # Instance method\n",
    "    def display_info(self):\n",
    "        return f\"{self.year} {self.make} {self.model}\"\n",
    "\n",
    "my_car = Car(\"Toyota\", \"Camry\", 2020)\n",
    "# Calling the instance method on the object\n",
    "print(my_car.display_info()) \n",
    "\n",
    "\n",
    "# Example of a Class Method:\n",
    "\n",
    "class Car:\n",
    "    make = \"Generic Car\" \n",
    "\n",
    "    def __init__(self, model, year):\n",
    "        self.model = model\n",
    "        self.year = year\n",
    "\n",
    "    @classmethod\n",
    "    def set_make(cls, make):\n",
    "        cls.make = make \n",
    "Car.set_make(\"Toyota\")\n",
    "\n",
    "my_car = Car(\"Camry\", 2020)\n",
    "print(f\"{my_car.year} {Car.make} {my_car.model}\") \n"
   ]
  },
  {
   "cell_type": "markdown",
   "id": "2b404b2b-11d9-4473-9b9a-3282781f242c",
   "metadata": {},
   "source": [
    "Q4) How does Python implement method overloading? Give an example.\n",
    "\n",
    "Ans) Python doesn't support traditional method overloading like some other programming languages (e.g., Java or C++), where you can define multiple methods with the same name but different parameters (signatures). Instead, Python uses a more flexible approach by allowing default arguments, variable-length argument lists, and conditional logic within a method to handle different numbers or types of arguments.We can achieve method overloading by writing a single method that can handle various argument configurations."
   ]
  },
  {
   "cell_type": "code",
   "execution_count": 7,
   "id": "8bc484d0-c807-4ba5-a48c-7fc45b1e999c",
   "metadata": {},
   "outputs": [
    {
     "name": "stdout",
     "output_type": "stream",
     "text": [
      "30\n",
      "60\n",
      "10\n",
      "____\n",
      "30\n",
      "60\n",
      "100\n"
     ]
    }
   ],
   "source": [
    "# Example of Method Overloading in Python:\n",
    "\n",
    "class Calculator:\n",
    "    def add(self, a, b=0, c=0):\n",
    "        return a + b + c\n",
    "calc = Calculator()\n",
    "print(calc.add(10, 20))\n",
    "print(calc.add(10, 20, 30))\n",
    "print(calc.add(10))\n",
    "\n",
    "print(\"____\")\n",
    "\n",
    "# Using *args for More Flexible Overloading:\n",
    "\n",
    "class Calculator:\n",
    "    def add(self, *args):\n",
    "        return sum(args)\n",
    "calc = Calculator()\n",
    "print(calc.add(10, 20))\n",
    "print(calc.add(10, 20, 30))\n",
    "print(calc.add(10, 20, 30, 40))\n"
   ]
  },
  {
   "cell_type": "markdown",
   "id": "a6f13daa-2449-420e-b679-fe5b4316e56c",
   "metadata": {},
   "source": [
    "Q5) What are the three types of access modifiers in Python? How are they denoted?\n",
    "\n",
    "Ans) In Python, access modifiers are used to control the visibility and accessibility of class attributes and methods. While Python doesn’t have strict access modifiers like some other languages (e.g., public, private, protected in Java), it follows certain conventions for indicating the level of access control.\n",
    "\n",
    "There are three types of access modifiers in Python:\n",
    "\n",
    "1. Public Access:\n",
    ". Attributes and methods: These are accessible from anywhere—inside or outside the class.\n",
    "\n",
    ". Denoted by: Attributes and methods without any underscores before their names.\n",
    ". Both make, model, and display_info are publicly accessible.\n",
    "\n",
    "2. Protected Access:\n",
    ". Attributes and methods: These are meant to be accessed within the class and its subclasses. While still accessible outside the class, they are marked as “protected” by convention and should not be accessed directly.\n",
    "\n",
    ". _make, _model, and _display_info are protected and should ideally be accessed only within the class or subclass. However, this is a soft convention and not strictly enforced by Python.\n",
    "\n",
    ". Denoted by: A single underscore (_) before the attribute or method name.\n",
    "\n",
    "3. Private Access:\n",
    ". Attributes and methods: These are meant to be accessed only within the class. Python enforces this through name mangling, which makes private members difficult to access from outside the class.\n",
    "\n",
    ". Denoted by: A double underscore (__) before the attribute or method name.\n",
    ". __make, __model, and __display_info are private, and attempting to access them directly from outside the class will result in an AttributeError. However, Python internally renames them using \"name mangling,\" which allows access through _ClassName__attribute or _ClassName__method. This is mostly a safeguard and not an absolute restriction."
   ]
  },
  {
   "cell_type": "code",
   "execution_count": 9,
   "id": "8fb45abd-58f5-4417-aba7-c4fa8c23d9a3",
   "metadata": {},
   "outputs": [
    {
     "name": "stdout",
     "output_type": "stream",
     "text": [
      "Toyota\n",
      "Car: Toyota Camry\n",
      "Toyota\n",
      "Car: Toyota Camry\n",
      "Toyota\n"
     ]
    }
   ],
   "source": [
    "#Examples of: \n",
    "#public Access:\n",
    "\n",
    "class Car:\n",
    "    def __init__(self, make, model):\n",
    "        self.make = make  # Public attribute\n",
    "        self.model = model  # Public attribute\n",
    "\n",
    "    def display_info(self):  # Public method\n",
    "        print(f\"Car: {self.make} {self.model}\")\n",
    "\n",
    "car = Car(\"Toyota\", \"Camry\")\n",
    "print(car.make)  # Accessible from outside the class\n",
    "car.display_info()  # Accessible from outside the class\n",
    "\n",
    "\n",
    "# Protected Access:\n",
    "\n",
    "class Car:\n",
    "    def __init__(self, make, model):\n",
    "        self._make = make  # Protected attribute\n",
    "        self._model = model  # Protected attribute\n",
    "\n",
    "    def _display_info(self):  # Protected method\n",
    "        print(f\"Car: {self._make} {self._model}\")\n",
    "\n",
    "car = Car(\"Toyota\", \"Camry\")\n",
    "print(car._make)  # Accessible but discouraged\n",
    "car._display_info()  # Accessible but discouraged\n",
    "\n",
    "\n",
    "# Private Access:\n",
    "\n",
    "class Car:\n",
    "    def __init__(self, make, model):\n",
    "        self.__make = make  # Private attribute\n",
    "        self.__model = model  # Private attribute\n",
    "\n",
    "    def __display_info(self):  # Private method\n",
    "        print(f\"Car: {self.__make} {self.__model}\")\n",
    "\n",
    "car = Car(\"Toyota\", \"Camry\")\n",
    "print(car._Car__make)"
   ]
  },
  {
   "cell_type": "markdown",
   "id": "275d4b5d-812e-4aad-a15e-f1c02ef5c0a0",
   "metadata": {},
   "source": [
    "Q6) Describe the five types of inheritance in Python. Provide a simple example of multiple inheritance.\n",
    "\n",
    "Ans) \n",
    "1. Single Inheritance:\n",
    "Definition: Single inheritance involves a subclass inheriting from one parent class.\n",
    "\n",
    "Use Case: It allows the child class to reuse the code from the parent class, extending or overriding it as needed.\n",
    "\n",
    "Example: A Dog class inherits from an Animal class. The Dog class can inherit general behavior (like making a sound) from Animal and add its own specific behavior (like barking).\n",
    "\n",
    "Characteristics:\n",
    "\n",
    "Simplifies class relationships.\n",
    "Easy to implement and understand.\n",
    "\n",
    "2. Multiple Inheritance:\n",
    "Definition: Multiple inheritance occurs when a subclass inherits from more than one parent class.\n",
    "\n",
    "Use Case: This type of inheritance allows a child class to combine functionalities from multiple parent classes.\n",
    "\n",
    "Example: A RoboDog class might inherit from both a Dog class and a Robot class, gaining attributes and methods from both parents.\n",
    "\n",
    "Characteristics:\n",
    "\n",
    "Can introduce complexity, as the child class can inherit conflicting methods from multiple parents.\n",
    "Python resolves these conflicts using the Method Resolution Order (MRO), which defines the order in which methods are inherited when there are multiple parent classes.\n",
    "Benefits:\n",
    "\n",
    "Encourages code reuse from multiple sources.\n",
    "Challenges:\n",
    "\n",
    "Requires careful handling of inherited attributes and methods to avoid ambiguity.\n",
    "\n",
    "3. Multilevel Inheritance:\n",
    "Definition: Multilevel inheritance involves a chain of inheritance where a subclass inherits from a parent class, and another subclass inherits from that subclass.\n",
    "\n",
    "Use Case: This can represent a natural hierarchy where each class adds specific functionality on top of what it inherits from its predecessor.\n",
    "\n",
    "Example: A Dog class inherits from a Mammal class, which in turn inherits from an Animal class. The Dog class thus indirectly inherits from Animal as well.\n",
    "\n",
    "Characteristics:\n",
    "\n",
    "Useful for creating logical hierarchies in class relationships.\n",
    "Inherits attributes and methods across multiple levels.\n",
    "Challenges:\n",
    "\n",
    "Can become complex if the hierarchy becomes deep, making it harder to trace which class provides specific functionality.\n",
    "\n",
    "4. Hierarchical Inheritance:\n",
    "Definition: In hierarchical inheritance, multiple subclasses inherit from the same parent class.\n",
    "\n",
    "Use Case: This type of inheritance is useful when you have different subclasses that share common functionality from the same parent class but also have their own unique features.\n",
    "\n",
    "Example: A Dog class and a Cat class both inherit from an Animal class, gaining common behavior (like making sounds) but adding specific behaviors of their own (like barking or meowing).\n",
    "\n",
    "Characteristics:\n",
    "\n",
    "Allows sharing of common functionality across multiple subclasses.\n",
    "Helps avoid code duplication by centralizing common behavior in the parent class.\n",
    "Benefits:\n",
    "\n",
    "Simplifies maintenance by centralizing shared functionality.\n",
    "Challenges:\n",
    "\n",
    "Requires careful design to ensure common functionality is well abstracted in the parent class.\n",
    "\n",
    "5. Hybrid Inheritance:\n",
    "Definition: Hybrid inheritance is a combination of more than one type of inheritance (e.g., a mix of multilevel and multiple inheritance). It results in more complex inheritance structures.\n",
    "\n",
    "Use Case: This type of inheritance occurs in scenarios where a class inherits from multiple classes in different ways, such as a class being derived through both multiple and multilevel inheritance.\n",
    "\n",
    "Example: A RoboDog class inherits from both the Dog class (which inherits from Mammal) and a Robot class. Thus, it combines multilevel and multiple inheritance.\n",
    "\n",
    "Characteristics:\n",
    "\n",
    "Provides great flexibility in modeling real-world relationships.\n",
    "Can be difficult to manage due to the complexity of the inheritance hierarchy.\n",
    "Benefits:\n",
    "\n",
    "Maximizes code reuse and functionality by combining multiple inheritance strategies.\n",
    "Challenges:\n",
    "\n",
    "Increases the complexity of the class hierarchy.\n",
    "Care must be taken with the Method Resolution Order (MRO) to avoid conflicts."
   ]
  },
  {
   "cell_type": "code",
   "execution_count": 11,
   "id": "0f670f0c-dc04-4532-9f6f-01e3de45e355",
   "metadata": {},
   "outputs": [
    {
     "name": "stdout",
     "output_type": "stream",
     "text": [
      "Father's traits\n",
      "Child's own traits\n"
     ]
    }
   ],
   "source": [
    "# Example of multiple inheritance:\n",
    "\n",
    "class Father:\n",
    "    def traits(self):\n",
    "        print(\"Father's traits\")\n",
    "\n",
    "class Mother:\n",
    "    def traits(self):\n",
    "        print(\"Mother's traits\")\n",
    "\n",
    "class Child(Father, Mother):  # Multiple inheritance\n",
    "    def own_traits(self):\n",
    "        print(\"Child's own traits\")\n",
    "\n",
    "child = Child()\n",
    "child.traits()\n",
    "child.own_traits()\n"
   ]
  },
  {
   "cell_type": "markdown",
   "id": "cffa2e04-647d-4573-b206-a9a3b0443bfb",
   "metadata": {},
   "source": [
    "Q7) What is the Method Resolution Order (MRO) in Python? How can you retrieve it programmatically?\n",
    "\n",
    "Ans) The Method Resolution Order (MRO) in Python defines the sequence in which methods (or attributes) are inherited from classes, especially in the case of multiple inheritance. This is important because it determines which method is called when a method is invoked on an instance of a class that has multiple ancestors (superclasses).\n",
    "\n",
    "MRO in Python:\n",
    "The MRO follows a specific order to resolve which method should be called from which class, ensuring consistent and predictable behavior. It primarily uses the C3 linearization (C3 superclass linearization) algorithm. This algorithm ensures that:\n",
    "\n",
    "1. A class is always checked before its parents (local precedence order).\n",
    "2. The order in which parents are inherited (from left to right in the class definition) is respected.\n",
    "3. No class is checked before its descendants.\n",
    "\n",
    "Retrieving the MRO Programmatically:\n",
    "You can retrieve the MRO in Python in the following ways:\n",
    "\n",
    "1. Using the mro() method: Every class in Python has an mro() method that returns the method resolution order for that class.\n",
    "\n",
    "print(D.mro())\r\n",
    "2. Using the __mro__ attribute: You can access the same information through the __mro__ attribute.\n",
    "\n",
    "print(D.__mro__)\r\n",
    "\n"
   ]
  },
  {
   "cell_type": "code",
   "execution_count": 13,
   "id": "832bed3c-df69-46a2-9078-60623adbe670",
   "metadata": {},
   "outputs": [
    {
     "name": "stdout",
     "output_type": "stream",
     "text": [
      "B\n"
     ]
    }
   ],
   "source": [
    "#Example of MRO\n",
    "\n",
    "class A:\n",
    "    def method(self):\n",
    "        print(\"A\")\n",
    "\n",
    "class B(A):\n",
    "    def method(self):\n",
    "        print(\"B\")\n",
    "\n",
    "class C(A):\n",
    "    def method(self):\n",
    "        print(\"C\")\n",
    "\n",
    "class D(B, C):\n",
    "    pass\n",
    "\n",
    "d = D()\n",
    "d.method()\n"
   ]
  },
  {
   "cell_type": "markdown",
   "id": "33f49ba1-e276-47c3-aa0d-51c5f09ebcb1",
   "metadata": {},
   "source": [
    "Q8) Create an abstract base class `Shape` with an abstract method `area()`. Then create two subclasses `Circle` and `Rectangle` that implement the `area()` method.\n",
    "\n",
    "Ans) "
   ]
  },
  {
   "cell_type": "code",
   "execution_count": 15,
   "id": "deafa43a-3271-4b9e-9ed3-97cb91e9a3f9",
   "metadata": {},
   "outputs": [
    {
     "name": "stdout",
     "output_type": "stream",
     "text": [
      "Area of Circle: 78.53981633974483\n",
      "Area of Rectangle: 24\n"
     ]
    }
   ],
   "source": [
    "from abc import ABC, abstractmethod\n",
    "import math\n",
    "\n",
    "class Shape(ABC):\n",
    "    @abstractmethod\n",
    "    def area(self):\n",
    "        \"\"\"Calculate the area of the shape.\"\"\"\n",
    "        pass\n",
    "\n",
    "class Circle(Shape):\n",
    "    def __init__(self, radius):\n",
    "        self.radius = radius\n",
    "    \n",
    "    def area(self):\n",
    "        return math.pi * self.radius ** 2\n",
    "\n",
    "class Rectangle(Shape):\n",
    "    def __init__(self, width, height):\n",
    "        self.width = width\n",
    "        self.height = height\n",
    "    \n",
    "    def area(self):\n",
    "        return self.width * self.height\n",
    "\n",
    "circle = Circle(5)\n",
    "print(f\"Area of Circle: {circle.area()}\")\n",
    "\n",
    "rectangle = Rectangle(4, 6)\n",
    "print(f\"Area of Rectangle: {rectangle.area()}\")\n"
   ]
  },
  {
   "cell_type": "markdown",
   "id": "7cd86cb7-34da-45b7-9aa5-03bda89618d3",
   "metadata": {},
   "source": [
    "Q9) Demonstrate polymorphism by creating a function that can work with different shape objects to calculate and print their areas.\n",
    "\n",
    "Ans) "
   ]
  },
  {
   "cell_type": "code",
   "execution_count": 17,
   "id": "e1dd5936-d2b0-4ac1-9898-879bb975547e",
   "metadata": {},
   "outputs": [
    {
     "name": "stdout",
     "output_type": "stream",
     "text": [
      "The area of the Circle is: 78.53981633974483\n",
      "The area of the Rectangle is: 24\n",
      "The area of the Triangle is: 10.5\n"
     ]
    }
   ],
   "source": [
    "import math\n",
    "\n",
    "class Shape:\n",
    "    def area(self):\n",
    "        pass \n",
    "class Circle(Shape):\n",
    "    def __init__(self, radius):\n",
    "        self.radius = radius\n",
    "\n",
    "    def area(self):\n",
    "        return math.pi * self.radius * self.radius\n",
    "\n",
    "class Rectangle(Shape):\n",
    "    def __init__(self, width, height):\n",
    "        self.width = width\n",
    "        self.height = height\n",
    "\n",
    "    def area(self):\n",
    "        return self.width * self.height\n",
    "\n",
    "# Triangle class inherits from Shape\n",
    "class Triangle(Shape):\n",
    "    def __init__(self, base, height):\n",
    "        self.base = base\n",
    "        self.height = height\n",
    "\n",
    "    def area(self):\n",
    "        return 0.5 * self.base * self.height\n",
    "\n",
    "def print_area(shape):\n",
    "    print(f\"The area of the {shape.__class__.__name__} is: {shape.area()}\")\n",
    "\n",
    "circle = Circle(5)\n",
    "rectangle = Rectangle(4, 6)\n",
    "triangle = Triangle(3, 7)\n",
    "\n",
    "print_area(circle)\n",
    "print_area(rectangle)\n",
    "print_area(triangle)\n"
   ]
  },
  {
   "cell_type": "markdown",
   "id": "69401894-40d9-4695-9b4d-db1a166f1180",
   "metadata": {},
   "source": [
    "Q10) Implement encapsulation in a `BankAccount` class with private attributes for `balance` and `account_number`. Include methods for deposit, withdrawal, and balance inquiry.\n",
    "\n",
    "Ans) "
   ]
  },
  {
   "cell_type": "code",
   "execution_count": 19,
   "id": "5d07e278-e816-4ef1-9e2c-21f87a48ff99",
   "metadata": {},
   "outputs": [
    {
     "name": "stdout",
     "output_type": "stream",
     "text": [
      "Account Number: 123456789\n",
      "Deposited 200. New balance: 700\n",
      "Withdrew 100. New balance: 600\n",
      "Current Balance: 600\n"
     ]
    }
   ],
   "source": [
    "class BankAccount:\n",
    "    def __init__(self, account_number, initial_balance=0):\n",
    "        self.__account_number = account_number\n",
    "        self.__balance = initial_balance\n",
    "\n",
    "    def deposit(self, amount):\n",
    "        if amount > 0:\n",
    "            self.__balance += amount\n",
    "            print(f\"Deposited {amount}. New balance: {self.__balance}\")\n",
    "        else:\n",
    "            print(\"Deposit amount must be positive.\")\n",
    "\n",
    "    def withdraw(self, amount):\n",
    "        if 0 < amount <= self.__balance:\n",
    "            self.__balance -= amount\n",
    "            print(f\"Withdrew {amount}. New balance: {self.__balance}\")\n",
    "        else:\n",
    "            print(\"Insufficient balance or invalid amount.\")\n",
    "\n",
    "    def get_balance(self):\n",
    "        return self.__balance\n",
    "\n",
    "    def get_account_number(self):\n",
    "        return self.__account_number\n",
    "\n",
    "account = BankAccount(\"123456789\", 500)  \n",
    "print(f\"Account Number: {account.get_account_number()}\")\n",
    "\n",
    "account.deposit(200)\n",
    "account.withdraw(100)\n",
    "print(f\"Current Balance: {account.get_balance()}\")\n"
   ]
  },
  {
   "cell_type": "markdown",
   "id": "0def15b9-f7a1-4042-8d31-944507bd811d",
   "metadata": {},
   "source": [
    "Q11)  Write a class that overrides the `__str__` and `__add__` magic methods. What will these methods allow you to do?\n",
    "\n",
    "Ans) "
   ]
  },
  {
   "cell_type": "code",
   "execution_count": 21,
   "id": "b13f9581-17f2-4502-b83e-e8f8c3798bf1",
   "metadata": {},
   "outputs": [
    {
     "name": "stdout",
     "output_type": "stream",
     "text": [
      "Point(2, 3)\n",
      "Point(4, 5)\n",
      "Point(6, 8)\n"
     ]
    }
   ],
   "source": [
    "class Point:\n",
    "    def __init__(self, x, y):\n",
    "        self.x = x\n",
    "        self.y = y\n",
    "\n",
    "    def __str__(self):\n",
    "        return f\"Point({self.x}, {self.y})\"\n",
    "\n",
    "    def __add__(self, other):\n",
    "        if isinstance(other, Point):\n",
    "            return Point(self.x + other.x, self.y + other.y)\n",
    "        else:\n",
    "            raise TypeError(\"Operands must be Point objects\")\n",
    "p1 = Point(2, 3)\n",
    "p2 = Point(4, 5)\n",
    "print(p1)\n",
    "print(p2)\n",
    "p3 = p1 + p2\n",
    "print(p3)\n"
   ]
  },
  {
   "cell_type": "markdown",
   "id": "eea92666-eef2-4a14-a383-7350db428b53",
   "metadata": {},
   "source": [
    "Q12)  Create a decorator that measures and prints the execution time of a function.\n",
    "\n",
    "Ans) "
   ]
  },
  {
   "cell_type": "code",
   "execution_count": 23,
   "id": "1697000e-318d-4c9f-a519-7803b6cf6722",
   "metadata": {},
   "outputs": [
    {
     "name": "stdout",
     "output_type": "stream",
     "text": [
      "Function 'example_function' executed in 0.0790 seconds\n",
      "Result: 499999500000\n"
     ]
    }
   ],
   "source": [
    "import time\n",
    "from functools import wraps\n",
    "\n",
    "def execution_time_decorator(func):\n",
    "    @wraps(func)\n",
    "    def wrapper(*args, **kwargs):\n",
    "        start_time = time.time()\n",
    "        result = func(*args, **kwargs)\n",
    "        end_time = time.time()\n",
    "        execution_time = end_time - start_time\n",
    "        print(f\"Function '{func.__name__}' executed in {execution_time:.4f} seconds\")\n",
    "        return result\n",
    "    return wrapper\n",
    "\n",
    "@execution_time_decorator\n",
    "def example_function(n):\n",
    "    total = 0\n",
    "    for i in range(n):\n",
    "        total += i\n",
    "    return total\n",
    "\n",
    "result = example_function(1000000)\n",
    "print(f\"Result: {result}\")\n"
   ]
  },
  {
   "cell_type": "markdown",
   "id": "a9e23bba-a59b-4265-9f60-e4d1679052cc",
   "metadata": {},
   "source": [
    "Q13) Explain the concept of the Diamond Problem in multiple inheritance. How does Python resolve it?\n",
    "\n",
    "Ans) The Diamond Problem occurs in programming languages that support multiple inheritance, where a class inherits from two or more classes that share a common ancestor. The issue arises when the derived class needs to access a method or attribute from the shared ancestor, and there are multiple paths to that ancestor due to the inheritance structure.\n",
    "\n",
    "How Python Resolves It:\n",
    "Python resolves the Diamond Problem using Method Resolution Order (MRO), which is based on the C3 Linearization Algorithm. The MRO ensures that each class is visited only once in a consistent order.We can view the MRO of a class using the __mro__ attribute or the mro() method."
   ]
  },
  {
   "cell_type": "code",
   "execution_count": 25,
   "id": "006d9d89-2630-4f2a-a20c-60f4b9bdacd8",
   "metadata": {},
   "outputs": [
    {
     "name": "stdout",
     "output_type": "stream",
     "text": [
      "Hello from B\n",
      "[<class '__main__.D'>, <class '__main__.B'>, <class '__main__.C'>, <class '__main__.A'>, <class 'object'>]\n"
     ]
    }
   ],
   "source": [
    "class A:\n",
    "    def say_hello(self):\n",
    "        print(\"Hello from A\")\n",
    "\n",
    "class B(A):\n",
    "    def say_hello(self):\n",
    "        print(\"Hello from B\")\n",
    "\n",
    "class C(A):\n",
    "    def say_hello(self):\n",
    "        print(\"Hello from C\")\n",
    "\n",
    "class D(B, C):\n",
    "    pass\n",
    "\n",
    "d = D()\n",
    "d.say_hello()\n",
    "\n",
    "print(D.mro())\n"
   ]
  },
  {
   "cell_type": "markdown",
   "id": "81fe959c-747b-4ba9-aba5-0844f309579d",
   "metadata": {},
   "source": [
    "Q14) Write a class method that keeps track of the number of instances created from a class.\n",
    "\n",
    "Ans) To keep track of the number of instances created from a class, we can use a class variable that is incremented each time a new instance is created. A class method can then be used to access this count.\n",
    "\n",
    "Here’s an implementation:"
   ]
  },
  {
   "cell_type": "code",
   "execution_count": 27,
   "id": "4e53a690-4693-4283-a2dd-5dfe9e40056a",
   "metadata": {},
   "outputs": [
    {
     "name": "stdout",
     "output_type": "stream",
     "text": [
      "Number of instances created: 3\n"
     ]
    }
   ],
   "source": [
    "class MyClass:\n",
    "    instance_count = 0\n",
    "\n",
    "    def __init__(self):\n",
    "        MyClass.instance_count += 1\n",
    "    @classmethod\n",
    "    def get_instance_count(cls):\n",
    "        return cls.instance_count\n",
    "obj1 = MyClass()\n",
    "obj2 = MyClass()\n",
    "obj3 = MyClass()\n",
    "print(f\"Number of instances created: {MyClass.get_instance_count()}\")\n"
   ]
  },
  {
   "cell_type": "markdown",
   "id": "06937b5e-f8f7-4b85-b1b1-bee494309ee5",
   "metadata": {},
   "source": [
    "Q15) Implement a static method in a class that checks if a given year is a leap year.\n",
    "\n",
    "Ans) "
   ]
  },
  {
   "cell_type": "code",
   "execution_count": 29,
   "id": "74b59097-dfad-4e63-94b8-02161e411aa4",
   "metadata": {},
   "outputs": [
    {
     "name": "stdout",
     "output_type": "stream",
     "text": [
      "2024 is a leap year.\n",
      "1900 is not a leap year.\n",
      "2000 is a leap year.\n"
     ]
    }
   ],
   "source": [
    "class YearUtils:\n",
    "    @staticmethod\n",
    "    def is_leap_year(year):\n",
    "        \"\"\"Check if a given year is a leap year.\"\"\"\n",
    "        if (year % 4 == 0 and year % 100 != 0) or (year % 400 == 0):\n",
    "            return True\n",
    "        else:\n",
    "            return False\n",
    "\n",
    "year = 2024\n",
    "if YearUtils.is_leap_year(year):\n",
    "    print(f\"{year} is a leap year.\")\n",
    "else:\n",
    "    print(f\"{year} is not a leap year.\")\n",
    "\n",
    "year = 1900\n",
    "if YearUtils.is_leap_year(year):\n",
    "    print(f\"{year} is a leap year.\")\n",
    "else:\n",
    "    print(f\"{year} is not a leap year.\")\n",
    "\n",
    "year = 2000\n",
    "if YearUtils.is_leap_year(year):\n",
    "    print(f\"{year} is a leap year.\")\n",
    "else:\n",
    "    print(f\"{year} is not a leap year.\")\n"
   ]
  }
 ],
 "metadata": {
  "kernelspec": {
   "display_name": "Python 3 (ipykernel)",
   "language": "python",
   "name": "python3"
  },
  "language_info": {
   "codemirror_mode": {
    "name": "ipython",
    "version": 3
   },
   "file_extension": ".py",
   "mimetype": "text/x-python",
   "name": "python",
   "nbconvert_exporter": "python",
   "pygments_lexer": "ipython3",
   "version": "3.12.4"
  }
 },
 "nbformat": 4,
 "nbformat_minor": 5
}
